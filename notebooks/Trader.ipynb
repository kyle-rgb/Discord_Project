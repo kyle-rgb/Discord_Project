{
 "cells": [
  {
   "cell_type": "code",
   "execution_count": 677,
   "metadata": {},
   "outputs": [],
   "source": [
    "import pandas as pd, numpy as np, sqlite3 as sql, datetime as dt, re, time, yfinance as yf\n",
    "from dateutil.relativedelta import relativedelta"
   ]
  },
  {
   "cell_type": "code",
   "execution_count": 1057,
   "metadata": {},
   "outputs": [],
   "source": [
    "with sql.connect('../data/interim/companies.db') as con:\n",
    "        port = pd.read_sql(f\"SELECT * FROM daily ORDER BY Date\", con=con).drop_duplicates(subset=['Date', 'symbol'])\n",
    "        recommends = pd.read_sql(f\"SELECT Date date, symbol, Firm, new_grade, prev_grade, Action from recommendations ORDER BY Date\", con=con)\n",
    "        arts =pd.read_sql(\"SELECT date, symbol, publisher, pos_sent, neu_sent, neg_sent, comp_sent FROM articles ORDER BY date\", con=con)\n",
    "        crypt_arts = pd.read_sql(\"SELECT date, symbol, publisher,pos_sent, neu_sent, neg_sent, comp_sent  FROM news_sentiment ORDER BY date\", con=con)\n",
    "        articles = pd.concat([arts, crypt_arts], axis=0, ignore_index=True)\n",
    "        comments = pd.read_sql(f\"SELECT DATE(timestamp) date, channel, symbols, pos_sent, neu_sent, neg_sent, comp_sent from symbol_comments ORDER BY timestamp\", con=con)\n",
    "        comments.loc[:, \"symbols\"] = comments.symbols.apply(lambda x: x.replace('BTC', 'BTC-USD'))\n",
    "        companies = tuple(port.symbol.unique())\n",
    "        c_data = pd.read_sql(f\"SELECT * from mentions WHERE symbol IN {companies}\", con=con, index_col='pk')"
   ]
  },
  {
   "cell_type": "code",
   "execution_count": 1058,
   "metadata": {},
   "outputs": [],
   "source": [
    "symbols_re = re.compile(r\"\\[|\\]|\\'|\\'\")\n",
    "last_index = comments.index.max()"
   ]
  },
  {
   "cell_type": "code",
   "execution_count": 1059,
   "metadata": {},
   "outputs": [],
   "source": [
    "# decompose for single symbol\n",
    "for i, row in comments.iterrows():\n",
    "    symbols = re.sub(symbols_re, \"\", row.symbols)\n",
    "    symbols = symbols.split(',')\n",
    "    for sym in symbols:\n",
    "        last_index+=1\n",
    "        comments.loc[last_index, [\"symbols\"]] = sym\n",
    "        comments.loc[last_index, [\"comment_index\"]] = i\n",
    "        comments.loc[last_index, [\"date\", \"channel\", \"pos_sent\", \"neu_sent\", \"neg_sent\", \"comp_sent\"]] = row.date, row.channel, row.pos_sent, row.neu_sent,  row.neg_sent, row.comp_sent\n"
   ]
  },
  {
   "cell_type": "code",
   "execution_count": 1060,
   "metadata": {},
   "outputs": [],
   "source": [
    "comments = comments[lambda x:~( x.comment_index.isnull())]"
   ]
  },
  {
   "cell_type": "code",
   "execution_count": 1075,
   "metadata": {},
   "outputs": [
    {
     "name": "stderr",
     "output_type": "stream",
     "text": [
      "C:\\Users\\Kyle\\anaconda3\\lib\\site-packages\\pandas\\core\\indexing.py:1745: SettingWithCopyWarning: \n",
      "A value is trying to be set on a copy of a slice from a DataFrame.\n",
      "Try using .loc[row_indexer,col_indexer] = value instead\n",
      "\n",
      "See the caveats in the documentation: https://pandas.pydata.org/pandas-docs/stable/user_guide/indexing.html#returning-a-view-versus-a-copy\n",
      "  isetter(ilocs[0], value)\n"
     ]
    }
   ],
   "source": [
    "comments.loc[comments.index, \"date\"] = comments.date.apply(pd.to_datetime)"
   ]
  },
  {
   "cell_type": "code",
   "execution_count": 1062,
   "metadata": {},
   "outputs": [
    {
     "data": {
      "text/html": [
       "<div>\n",
       "<style scoped>\n",
       "    .dataframe tbody tr th:only-of-type {\n",
       "        vertical-align: middle;\n",
       "    }\n",
       "\n",
       "    .dataframe tbody tr th {\n",
       "        vertical-align: top;\n",
       "    }\n",
       "\n",
       "    .dataframe thead th {\n",
       "        text-align: right;\n",
       "    }\n",
       "</style>\n",
       "<table border=\"1\" class=\"dataframe\">\n",
       "  <thead>\n",
       "    <tr style=\"text-align: right;\">\n",
       "      <th></th>\n",
       "      <th>date</th>\n",
       "      <th>channel</th>\n",
       "      <th>symbols</th>\n",
       "      <th>pos_sent</th>\n",
       "      <th>neu_sent</th>\n",
       "      <th>neg_sent</th>\n",
       "      <th>comp_sent</th>\n",
       "      <th>comment_index</th>\n",
       "    </tr>\n",
       "  </thead>\n",
       "  <tbody>\n",
       "    <tr>\n",
       "      <th>3394</th>\n",
       "      <td>2019-08-08</td>\n",
       "      <td>wetlqd-ideas</td>\n",
       "      <td>AMD</td>\n",
       "      <td>0.293</td>\n",
       "      <td>0.707</td>\n",
       "      <td>0.000</td>\n",
       "      <td>0.4404</td>\n",
       "      <td>0.0</td>\n",
       "    </tr>\n",
       "    <tr>\n",
       "      <th>3395</th>\n",
       "      <td>2019-08-13</td>\n",
       "      <td>wetlqd-ideas</td>\n",
       "      <td>MSFT</td>\n",
       "      <td>0.182</td>\n",
       "      <td>0.818</td>\n",
       "      <td>0.000</td>\n",
       "      <td>0.4404</td>\n",
       "      <td>1.0</td>\n",
       "    </tr>\n",
       "    <tr>\n",
       "      <th>3396</th>\n",
       "      <td>2019-08-13</td>\n",
       "      <td>wetlqd-ideas</td>\n",
       "      <td>MSFT</td>\n",
       "      <td>0.294</td>\n",
       "      <td>0.706</td>\n",
       "      <td>0.000</td>\n",
       "      <td>0.3612</td>\n",
       "      <td>2.0</td>\n",
       "    </tr>\n",
       "    <tr>\n",
       "      <th>3397</th>\n",
       "      <td>2019-08-14</td>\n",
       "      <td>wetlqd-ideas</td>\n",
       "      <td>ON</td>\n",
       "      <td>0.000</td>\n",
       "      <td>0.597</td>\n",
       "      <td>0.403</td>\n",
       "      <td>-0.4019</td>\n",
       "      <td>3.0</td>\n",
       "    </tr>\n",
       "    <tr>\n",
       "      <th>3398</th>\n",
       "      <td>2019-08-14</td>\n",
       "      <td>wetlqd-ideas</td>\n",
       "      <td>MA</td>\n",
       "      <td>0.000</td>\n",
       "      <td>0.597</td>\n",
       "      <td>0.403</td>\n",
       "      <td>-0.4019</td>\n",
       "      <td>3.0</td>\n",
       "    </tr>\n",
       "    <tr>\n",
       "      <th>...</th>\n",
       "      <td>...</td>\n",
       "      <td>...</td>\n",
       "      <td>...</td>\n",
       "      <td>...</td>\n",
       "      <td>...</td>\n",
       "      <td>...</td>\n",
       "      <td>...</td>\n",
       "      <td>...</td>\n",
       "    </tr>\n",
       "    <tr>\n",
       "      <th>7660</th>\n",
       "      <td>2020-12-08</td>\n",
       "      <td>option-trading</td>\n",
       "      <td>OOOO</td>\n",
       "      <td>0.000</td>\n",
       "      <td>1.000</td>\n",
       "      <td>0.000</td>\n",
       "      <td>0.0000</td>\n",
       "      <td>3389.0</td>\n",
       "    </tr>\n",
       "    <tr>\n",
       "      <th>7661</th>\n",
       "      <td>2020-12-08</td>\n",
       "      <td>option-trading</td>\n",
       "      <td>ING</td>\n",
       "      <td>0.900</td>\n",
       "      <td>0.100</td>\n",
       "      <td>0.000</td>\n",
       "      <td>0.8402</td>\n",
       "      <td>3390.0</td>\n",
       "    </tr>\n",
       "    <tr>\n",
       "      <th>7662</th>\n",
       "      <td>2020-12-08</td>\n",
       "      <td>trading</td>\n",
       "      <td>FSLY</td>\n",
       "      <td>0.000</td>\n",
       "      <td>1.000</td>\n",
       "      <td>0.000</td>\n",
       "      <td>0.0000</td>\n",
       "      <td>3391.0</td>\n",
       "    </tr>\n",
       "    <tr>\n",
       "      <th>7663</th>\n",
       "      <td>2020-12-08</td>\n",
       "      <td>trading</td>\n",
       "      <td>IT</td>\n",
       "      <td>0.000</td>\n",
       "      <td>1.000</td>\n",
       "      <td>0.000</td>\n",
       "      <td>0.0000</td>\n",
       "      <td>3392.0</td>\n",
       "    </tr>\n",
       "    <tr>\n",
       "      <th>7664</th>\n",
       "      <td>2020-12-08</td>\n",
       "      <td>options</td>\n",
       "      <td>CRM</td>\n",
       "      <td>0.000</td>\n",
       "      <td>1.000</td>\n",
       "      <td>0.000</td>\n",
       "      <td>0.0000</td>\n",
       "      <td>3393.0</td>\n",
       "    </tr>\n",
       "  </tbody>\n",
       "</table>\n",
       "<p>4271 rows × 8 columns</p>\n",
       "</div>"
      ],
      "text/plain": [
       "            date         channel symbols  pos_sent  neu_sent  neg_sent  \\\n",
       "3394  2019-08-08    wetlqd-ideas     AMD     0.293     0.707     0.000   \n",
       "3395  2019-08-13    wetlqd-ideas    MSFT     0.182     0.818     0.000   \n",
       "3396  2019-08-13    wetlqd-ideas    MSFT     0.294     0.706     0.000   \n",
       "3397  2019-08-14    wetlqd-ideas      ON     0.000     0.597     0.403   \n",
       "3398  2019-08-14    wetlqd-ideas      MA     0.000     0.597     0.403   \n",
       "...          ...             ...     ...       ...       ...       ...   \n",
       "7660  2020-12-08  option-trading    OOOO     0.000     1.000     0.000   \n",
       "7661  2020-12-08  option-trading     ING     0.900     0.100     0.000   \n",
       "7662  2020-12-08         trading    FSLY     0.000     1.000     0.000   \n",
       "7663  2020-12-08         trading      IT     0.000     1.000     0.000   \n",
       "7664  2020-12-08         options     CRM     0.000     1.000     0.000   \n",
       "\n",
       "      comp_sent  comment_index  \n",
       "3394     0.4404            0.0  \n",
       "3395     0.4404            1.0  \n",
       "3396     0.3612            2.0  \n",
       "3397    -0.4019            3.0  \n",
       "3398    -0.4019            3.0  \n",
       "...         ...            ...  \n",
       "7660     0.0000         3389.0  \n",
       "7661     0.8402         3390.0  \n",
       "7662     0.0000         3391.0  \n",
       "7663     0.0000         3392.0  \n",
       "7664     0.0000         3393.0  \n",
       "\n",
       "[4271 rows x 8 columns]"
      ]
     },
     "execution_count": 1062,
     "metadata": {},
     "output_type": "execute_result"
    }
   ],
   "source": [
    "comments"
   ]
  },
  {
   "cell_type": "code",
   "execution_count": 1063,
   "metadata": {},
   "outputs": [],
   "source": [
    "articles.loc[articles.index, \"date\"] = articles.date.apply(pd.to_datetime)"
   ]
  },
  {
   "cell_type": "code",
   "execution_count": 1064,
   "metadata": {},
   "outputs": [],
   "source": [
    "recommendsDict = {\"Very Bearish\": 1, \"Bearish\": 2, \"Neutral\": 3, \"Bullish\": 4, \"Very Bullish\": 5}"
   ]
  },
  {
   "cell_type": "code",
   "execution_count": 1065,
   "metadata": {},
   "outputs": [],
   "source": [
    "recommends=recommends.assign(new_sent = lambda x: x.new_grade.apply(lambda g: recommendsDict[g]))\\\n",
    "    .assign(prev_sent = lambda x: x.prev_grade.apply(lambda g: recommendsDict[g])).assign(date = lambda x: x.date.apply(pd.to_datetime))"
   ]
  },
  {
   "cell_type": "code",
   "execution_count": 1066,
   "metadata": {},
   "outputs": [],
   "source": [
    "comments = comments[lambda x: x.symbols.isin(companies)]"
   ]
  },
  {
   "cell_type": "code",
   "execution_count": 1067,
   "metadata": {},
   "outputs": [],
   "source": [
    "port.loc[port.index, \"Date\"] = port.Date.apply(pd.to_datetime)"
   ]
  },
  {
   "cell_type": "code",
   "execution_count": 1094,
   "metadata": {},
   "outputs": [],
   "source": [
    "port = port.rename(columns={'Date': 'date'})"
   ]
  },
  {
   "cell_type": "code",
   "execution_count": null,
   "metadata": {},
   "outputs": [],
   "source": [
    "def create_daily_data(ticker):\n",
    "    tick = yf.ticker.Ticker(ticker)\n",
    "    historical_data = tick.history(\"1mo\")\n",
    "    outstanding = tick.info.get(\"sharesOutstanding\")\n",
    "    if outstanding == None:\n",
    "        outstanding = 1\n",
    "    daily_close = historical_data[\"Close\"]\n",
    "    pct_change = daily_close.pct_change().fillna(0)\n",
    "    periods = 2\n",
    "    # calc volatility\n",
    "    vola = (pct_change.rolling(periods).std() * np.sqrt(periods)).fillna(0)\n",
    "    historical_data = historical_data.assign(Volatility = vola)\n",
    "    historical_data = historical_data.assign(Turnover = lambda x: x.Volume / outstanding)\n",
    "    historical_data = historical_data.assign(symbol = ticker)\n",
    "    return historical_data.reset_index().round({\"Volatility\": 6, \"Turnover\": 6})"
   ]
  },
  {
   "cell_type": "code",
   "execution_count": null,
   "metadata": {},
   "outputs": [
    {
     "name": "stdout",
     "output_type": "stream",
     "text": [
      "Finished with 0\n",
      "Finished with 5\n",
      "Finished with 10\n",
      "Finished with 15\n",
      "Finished with 20\n",
      "Finished with 25\n",
      "Finished with 30\n"
     ]
    }
   ],
   "source": [
    "full_daily_data = pd.DataFrame()\n",
    "for i, l in enumerate(companies):\n",
    "    new_df = create_daily_data(l)\n",
    "    full_daily_data = pd.concat([full_daily_data, new_df], axis=0, ignore_index=True)\n",
    "    if i % 5 == 0:\n",
    "        print(f\"Finished with {i}\")"
   ]
  },
  {
   "cell_type": "code",
   "execution_count": null,
   "metadata": {},
   "outputs": [],
   "source": [
    "_22 = full_daily_data[lambda x: x.Date > dt.datetime(2021, 12, 31)]"
   ]
  },
  {
   "cell_type": "code",
   "execution_count": null,
   "metadata": {},
   "outputs": [],
   "source": [
    "_22 = _22.rename(columns={\"Stock Splits\": \"Stock_Splits\"})"
   ]
  },
  {
   "cell_type": "code",
   "execution_count": null,
   "metadata": {},
   "outputs": [],
   "source": [
    "_22 = _22.loc[:, port.drop('pk', axis=1).columns]"
   ]
  },
  {
   "cell_type": "code",
   "execution_count": null,
   "metadata": {},
   "outputs": [],
   "source": [
    "new_port = pd.concat([port.drop('pk', axis=1), _22], axis=0, ignore_index=True)"
   ]
  },
  {
   "cell_type": "code",
   "execution_count": null,
   "metadata": {},
   "outputs": [],
   "source": []
  },
  {
   "cell_type": "code",
   "execution_count": 1095,
   "metadata": {},
   "outputs": [],
   "source": [
    "# take aggregations over wanted frequency; make buy decisions based off of the frequency of data points and sentiments\n",
    "# return port with new information: shares and cost * shares\n",
    "class EAT():\n",
    "    def __init__(self, portfolio, articles, comments, recs, start, end):\n",
    "        self.portfolio = portfolio.copy(deep=True)\n",
    "        self.postions = []\n",
    "        self.start = start\n",
    "        self.end = end\n",
    "        self.articles = articles[lambda x: (x.date >= start) & (x.date <= end)]\n",
    "        self.comments =  comments[lambda x: (x.date >= start) & (x.date <= end)]\n",
    "        self.recs = recs[lambda x: (x.date >= start) & (x.date <= end)]\n",
    "\n",
    "        self.aggs = {}\n",
    "\n",
    "    def aggregate(self):\n",
    "        articles_agg = self.articles.groupby([pd.Grouper(key=\"date\", freq=\"1Y\"), 'symbol'])\\\n",
    "            .agg({'pos_sent': ['mean'], 'neg_sent': ['mean'], 'neu_sent': ['mean'], 'comp_sent': ['mean', 'count']}).assign(type=lambda x: 'News')\n",
    "        comments_agg = self.comments.groupby([pd.Grouper(key=\"date\", freq=\"1Y\"), 'symbols'])\\\n",
    "            .agg({'pos_sent': ['mean'], 'neg_sent': ['mean'], 'neu_sent': ['mean'], 'comp_sent': ['mean', 'count']}).assign(type=lambda x: 'Chats')\n",
    "        recommends_agg = self.recs.groupby([pd.Grouper(key=\"date\", freq=\"1Y\"), 'symbol'])\\\n",
    "            .agg({'new_sent': ['mean'], 'prev_sent': ['mean', 'count']}).assign(type=lambda x: 'Analysts')\n",
    "        recommends_agg = recommends_agg.reset_index()\n",
    "        comments_agg = comments_agg.reset_index()\n",
    "        articles_agg = articles_agg.reset_index()\n",
    "        recommends_agg.columns = recommends_agg.columns.droplevel(1)\n",
    "        comments_agg.columns = comments_agg.columns.droplevel(1)\n",
    "        articles_agg.columns = articles_agg.columns.droplevel(1)\n",
    "        \n",
    "        articles_agg.columns = ['date', 'symbol', 'pos_sent', 'neg_sent', 'neu_sent', 'comp_sent',\n",
    "       'counts', 'type']\n",
    "        comments_agg.columns = ['date', 'symbol', 'pos_sent', 'neg_sent', 'neu_sent', 'comp_sent',\n",
    "       'counts', 'type']\n",
    "        recommends_agg.columns = ['date', 'symbol', 'new_sent', 'prev_sent', 'counts', 'type']\n",
    "        # comments_agg=comments_agg.assign(date = lambda x: x.date.apply(lambda x: x.date))\n",
    "        self.aggs['recommendations'] = recommends_agg\n",
    "        self.aggs['articles'] = articles_agg\n",
    "        self.aggs['comments'] = comments_agg\n",
    "        return None \n",
    "\n",
    "\n",
    "    def tradeSents(self, agg, label, min_samples, min_comp_sent, shares):\n",
    "        # add action, shares, cost\n",
    "        returns = self.aggs[agg][lambda x: (x.date >= self.start) & (x[label] >= min_comp_sent) & (x.counts >= min_samples)]\n",
    "        # query portfolio for first cost add columns\n",
    "        indexes = pd.Int64Index([])\n",
    "        for date, sym in returns.loc[:, ['date', 'symbol']].values:\n",
    "            # ns = returns[lambda x: x.date == date].shape[0]\n",
    "            if sym not in self.postions:\n",
    "                self.postions.append(sym)\n",
    "                f1_date = (date + relativedelta(years=1)).to_pydatetime()\n",
    "                indexes = self.portfolio[lambda x: ((x.date > date) & (x.symbol == sym) & (x.date <= f1_date))].index\n",
    "                self.portfolio.loc[indexes, \"shares\"] = shares\n",
    "            else:\n",
    "                self.postions.append(sym)\n",
    "                f1_date = (date + relativedelta(years=1)).to_pydatetime()\n",
    "                indexes = self.portfolio[lambda x: ((x.date > date) & (x.symbol == sym) & (x.date <= f1_date))].index\n",
    "                self.portfolio.loc[indexes, \"shares\"] = shares * self.postions.count(sym)\n",
    "            \n",
    "            i = returns[lambda x: (x.date == date) & (x.symbol == sym)].index\n",
    "            if not indexes.empty:\n",
    "                returns.loc[i, 'cost'] = shares * self.portfolio.loc[indexes[0], \"Close\"]\n",
    "                returns.loc[i, 'returns'] = shares * self.portfolio.loc[indexes[-1], \"Close\"]\n",
    "            else:\n",
    "                indexes = self.portfolio[lambda x: (x.symbol == sym)].index\n",
    "                returns.loc[i, 'cost'] = shares * self.portfolio.loc[indexes[-1], \"Open\"]\n",
    "                returns.loc[i, 'returns'] = shares * self.portfolio.loc[indexes[-1], \"Close\"]\n",
    "\n",
    "        return returns#self.portfolio\n",
    "        \n"
   ]
  },
  {
   "cell_type": "code",
   "execution_count": null,
   "metadata": {},
   "outputs": [],
   "source": []
  },
  {
   "cell_type": "code",
   "execution_count": 1099,
   "metadata": {},
   "outputs": [],
   "source": [
    "eat = EAT(port, articles, comments, recommends, dt.datetime(2018, 1, 1), dt.datetime(2022, 1, 30))"
   ]
  },
  {
   "cell_type": "code",
   "execution_count": 1100,
   "metadata": {},
   "outputs": [],
   "source": [
    "eat.aggregate()"
   ]
  },
  {
   "cell_type": "code",
   "execution_count": null,
   "metadata": {},
   "outputs": [],
   "source": []
  },
  {
   "cell_type": "code",
   "execution_count": 1101,
   "metadata": {},
   "outputs": [
    {
     "name": "stderr",
     "output_type": "stream",
     "text": [
      "C:\\Users\\Kyle\\anaconda3\\lib\\site-packages\\pandas\\core\\indexing.py:1596: SettingWithCopyWarning: \n",
      "A value is trying to be set on a copy of a slice from a DataFrame.\n",
      "Try using .loc[row_indexer,col_indexer] = value instead\n",
      "\n",
      "See the caveats in the documentation: https://pandas.pydata.org/pandas-docs/stable/user_guide/indexing.html#returning-a-view-versus-a-copy\n",
      "  self.obj[key] = _infer_fill_value(value)\n",
      "C:\\Users\\Kyle\\anaconda3\\lib\\site-packages\\pandas\\core\\indexing.py:1765: SettingWithCopyWarning: \n",
      "A value is trying to be set on a copy of a slice from a DataFrame.\n",
      "Try using .loc[row_indexer,col_indexer] = value instead\n",
      "\n",
      "See the caveats in the documentation: https://pandas.pydata.org/pandas-docs/stable/user_guide/indexing.html#returning-a-view-versus-a-copy\n",
      "  isetter(loc, value)\n"
     ]
    }
   ],
   "source": [
    "ret = eat.tradeSents(\"comments\", \"comp_sent\", min_samples=1, min_comp_sent=0.15, shares=10)"
   ]
  },
  {
   "cell_type": "code",
   "execution_count": 956,
   "metadata": {},
   "outputs": [
    {
     "name": "stderr",
     "output_type": "stream",
     "text": [
      "C:\\Users\\Kyle\\anaconda3\\lib\\site-packages\\pandas\\core\\indexing.py:1596: SettingWithCopyWarning: \n",
      "A value is trying to be set on a copy of a slice from a DataFrame.\n",
      "Try using .loc[row_indexer,col_indexer] = value instead\n",
      "\n",
      "See the caveats in the documentation: https://pandas.pydata.org/pandas-docs/stable/user_guide/indexing.html#returning-a-view-versus-a-copy\n",
      "  self.obj[key] = _infer_fill_value(value)\n",
      "C:\\Users\\Kyle\\anaconda3\\lib\\site-packages\\pandas\\core\\indexing.py:1765: SettingWithCopyWarning: \n",
      "A value is trying to be set on a copy of a slice from a DataFrame.\n",
      "Try using .loc[row_indexer,col_indexer] = value instead\n",
      "\n",
      "See the caveats in the documentation: https://pandas.pydata.org/pandas-docs/stable/user_guide/indexing.html#returning-a-view-versus-a-copy\n",
      "  isetter(loc, value)\n"
     ]
    }
   ],
   "source": [
    "ret = eat.tradeSents(\"articles\", \"comp_sent\", 100, 0.5, 10)"
   ]
  },
  {
   "cell_type": "code",
   "execution_count": 957,
   "metadata": {},
   "outputs": [],
   "source": [
    "ret = eat.tradeSents(\"recommendations\", \"new_sent\", 25, 4, 10)"
   ]
  },
  {
   "cell_type": "code",
   "execution_count": 958,
   "metadata": {},
   "outputs": [],
   "source": [
    "# eat.tradeSents(\"articles\", \"comp_sent\", 100, 0.5, 10)\n",
    "# eat.tradeSents(\"recommendations\", \"new_sent\", 25, 4, 10)"
   ]
  },
  {
   "cell_type": "code",
   "execution_count": 1102,
   "metadata": {},
   "outputs": [
    {
     "data": {
      "text/html": [
       "<div>\n",
       "<style scoped>\n",
       "    .dataframe tbody tr th:only-of-type {\n",
       "        vertical-align: middle;\n",
       "    }\n",
       "\n",
       "    .dataframe tbody tr th {\n",
       "        vertical-align: top;\n",
       "    }\n",
       "\n",
       "    .dataframe thead th {\n",
       "        text-align: right;\n",
       "    }\n",
       "</style>\n",
       "<table border=\"1\" class=\"dataframe\">\n",
       "  <thead>\n",
       "    <tr style=\"text-align: right;\">\n",
       "      <th></th>\n",
       "      <th>pos_sent</th>\n",
       "      <th>neg_sent</th>\n",
       "      <th>neu_sent</th>\n",
       "      <th>comp_sent</th>\n",
       "      <th>counts</th>\n",
       "      <th>cost</th>\n",
       "      <th>returns</th>\n",
       "      <th>r_pct</th>\n",
       "    </tr>\n",
       "    <tr>\n",
       "      <th>date</th>\n",
       "      <th></th>\n",
       "      <th></th>\n",
       "      <th></th>\n",
       "      <th></th>\n",
       "      <th></th>\n",
       "      <th></th>\n",
       "      <th></th>\n",
       "      <th></th>\n",
       "    </tr>\n",
       "  </thead>\n",
       "  <tbody>\n",
       "    <tr>\n",
       "      <th>2019-12-31</th>\n",
       "      <td>5.265895</td>\n",
       "      <td>0.623934</td>\n",
       "      <td>15.110028</td>\n",
       "      <td>8.133532</td>\n",
       "      <td>93</td>\n",
       "      <td>42329.746435</td>\n",
       "      <td>67754.449959</td>\n",
       "      <td>0.600634</td>\n",
       "    </tr>\n",
       "    <tr>\n",
       "      <th>2020-12-31</th>\n",
       "      <td>4.164832</td>\n",
       "      <td>0.921737</td>\n",
       "      <td>24.733701</td>\n",
       "      <td>5.878339</td>\n",
       "      <td>1405</td>\n",
       "      <td>330494.633604</td>\n",
       "      <td>502545.053391</td>\n",
       "      <td>0.520585</td>\n",
       "    </tr>\n",
       "  </tbody>\n",
       "</table>\n",
       "</div>"
      ],
      "text/plain": [
       "            pos_sent  neg_sent   neu_sent  comp_sent  counts           cost  \\\n",
       "date                                                                          \n",
       "2019-12-31  5.265895  0.623934  15.110028   8.133532      93   42329.746435   \n",
       "2020-12-31  4.164832  0.921737  24.733701   5.878339    1405  330494.633604   \n",
       "\n",
       "                  returns     r_pct  \n",
       "date                                 \n",
       "2019-12-31   67754.449959  0.600634  \n",
       "2020-12-31  502545.053391  0.520585  "
      ]
     },
     "execution_count": 1102,
     "metadata": {},
     "output_type": "execute_result"
    }
   ],
   "source": [
    "ret.groupby('date').sum().assign(r_pct = lambda x: (x.returns - x.cost) / x.cost)"
   ]
  },
  {
   "cell_type": "code",
   "execution_count": null,
   "metadata": {},
   "outputs": [],
   "source": []
  },
  {
   "cell_type": "code",
   "execution_count": null,
   "metadata": {},
   "outputs": [],
   "source": []
  },
  {
   "cell_type": "code",
   "execution_count": null,
   "metadata": {},
   "outputs": [],
   "source": []
  },
  {
   "cell_type": "code",
   "execution_count": null,
   "metadata": {},
   "outputs": [],
   "source": []
  },
  {
   "cell_type": "code",
   "execution_count": null,
   "metadata": {},
   "outputs": [],
   "source": []
  },
  {
   "cell_type": "code",
   "execution_count": null,
   "metadata": {},
   "outputs": [],
   "source": []
  },
  {
   "cell_type": "code",
   "execution_count": 808,
   "metadata": {},
   "outputs": [],
   "source": [
    "with sql.connect('../data/interim/companies.db') as con:\n",
    "    new_port.to_sql('daily', con=con, index=True, index_label=\"pk\", if_exists='replace')"
   ]
  },
  {
   "cell_type": "code",
   "execution_count": null,
   "metadata": {},
   "outputs": [],
   "source": []
  },
  {
   "cell_type": "code",
   "execution_count": null,
   "metadata": {},
   "outputs": [],
   "source": []
  },
  {
   "cell_type": "code",
   "execution_count": null,
   "metadata": {},
   "outputs": [],
   "source": []
  }
 ],
 "metadata": {
  "interpreter": {
   "hash": "533f42cc1718b4e514b78a4bcd7158294e27b7c18264f40c4fe062bcb1773c09"
  },
  "kernelspec": {
   "display_name": "Python 3.7.1 64-bit ('base': conda)",
   "language": "python",
   "name": "python3"
  },
  "language_info": {
   "codemirror_mode": {
    "name": "ipython",
    "version": 3
   },
   "file_extension": ".py",
   "mimetype": "text/x-python",
   "name": "python",
   "nbconvert_exporter": "python",
   "pygments_lexer": "ipython3",
   "version": "3.7.1"
  },
  "orig_nbformat": 4
 },
 "nbformat": 4,
 "nbformat_minor": 2
}
