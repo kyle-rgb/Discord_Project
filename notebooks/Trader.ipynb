{
 "cells": [
  {
   "cell_type": "code",
   "execution_count": 1162,
   "metadata": {},
   "outputs": [],
   "source": [
    "import pandas as pd, numpy as np, sqlite3 as sql, datetime as dt, re, time, yfinance as yf\n",
    "from dateutil.relativedelta import relativedelta"
   ]
  },
  {
   "cell_type": "code",
   "execution_count": null,
   "metadata": {},
   "outputs": [],
   "source": []
  },
  {
   "cell_type": "code",
   "execution_count": 1174,
   "metadata": {},
   "outputs": [],
   "source": [
    "with sql.connect('../data/interim/companies.db') as con:\n",
    "        port = pd.read_sql(f\"SELECT Date date, Open, High, Low, Close, Volume, Volatility, Turnover, symbol FROM daily ORDER BY date\", con=con, parse_dates={'date': '%Y-%m-%d %H:%M:%S'})\\\n",
    "                .drop_duplicates(subset=['date', 'symbol'])\n",
    "        recommends = pd.read_sql(f\"SELECT Date date, symbol, Firm, new_grade, prev_grade, Action from recommendations ORDER BY Date\", con=con, parse_dates={'date': '%Y-%m-%d %H:%M:%S'})\n",
    "        arts =pd.read_sql(\"SELECT date, symbol, publisher, pos_sent, neu_sent, neg_sent, comp_sent FROM articles ORDER BY date\", con=con, parse_dates={'date': '%Y-%m-%d %H:%M:%S'})\n",
    "        crypt_arts = pd.read_sql(\"SELECT date, symbol, publisher,pos_sent, neu_sent, neg_sent, comp_sent  FROM news_sentiment ORDER BY date\", con=con, parse_dates={'date': '%Y-%m-%d %H:%M:%S'})\n",
    "        articles = pd.concat([arts, crypt_arts], axis=0, ignore_index=True)\n",
    "        comments = pd.read_sql(f\"SELECT DATE(timestamp) date, channel, symbols, pos_sent, neu_sent, neg_sent, comp_sent from symbol_comments ORDER BY timestamp\", parse_dates={'date': '%Y-%m-%d'}, con=con)\n",
    "        comments.loc[:, \"symbols\"] = comments.symbols.apply(lambda x: x.replace('BTC', 'BTC-USD'))\n",
    "        companies = tuple(port.symbol.unique())\n",
    "        c_data = pd.read_sql(f\"SELECT * from mentions WHERE symbol IN {companies}\", con=con, index_col='pk')"
   ]
  },
  {
   "cell_type": "code",
   "execution_count": 1175,
   "metadata": {},
   "outputs": [],
   "source": [
    "symbols_re = re.compile(r\"\\[|\\]|\\'|\\'\")\n",
    "last_index = comments.index.max()"
   ]
  },
  {
   "cell_type": "code",
   "execution_count": 1165,
   "metadata": {},
   "outputs": [],
   "source": [
    "# decompose for single symbol\n",
    "for i, row in comments.iterrows():\n",
    "    symbols = re.sub(symbols_re, \"\", row.symbols)\n",
    "    symbols = symbols.split(',')\n",
    "    for sym in symbols:\n",
    "        last_index+=1\n",
    "        comments.loc[last_index, [\"symbols\"]] = sym\n",
    "        comments.loc[last_index, [\"comment_index\"]] = i\n",
    "        comments.loc[last_index, [\"date\", \"channel\", \"pos_sent\", \"neu_sent\", \"neg_sent\", \"comp_sent\"]] = row.date, row.channel, row.pos_sent, row.neu_sent,  row.neg_sent, row.comp_sent\n"
   ]
  },
  {
   "cell_type": "code",
   "execution_count": 1195,
   "metadata": {},
   "outputs": [
    {
     "name": "stdout",
     "output_type": "stream",
     "text": [
      "75420.9830585\n"
     ]
    },
    {
     "data": {
      "text/plain": [
       "75421.0021197"
      ]
     },
     "execution_count": 1195,
     "metadata": {},
     "output_type": "execute_result"
    }
   ],
   "source": [
    "print(time.perf_counter())\n",
    "\n",
    "time.perf_counter()"
   ]
  },
  {
   "cell_type": "code",
   "execution_count": null,
   "metadata": {},
   "outputs": [],
   "source": [
    "comments.assign(sym = lambda x: x.symbols.apply(lambda x: re.sub(symbols_re, '', x)).apply(str.split, sep=',')).explode('sym').reset_index"
   ]
  },
  {
   "cell_type": "code",
   "execution_count": null,
   "metadata": {},
   "outputs": [],
   "source": []
  },
  {
   "cell_type": "code",
   "execution_count": 1166,
   "metadata": {},
   "outputs": [],
   "source": [
    "comments = comments[lambda x:~( x.comment_index.isnull())]\n",
    "comments = comments[lambda x: x.symbols.isin(companies)]"
   ]
  },
  {
   "cell_type": "code",
   "execution_count": 1167,
   "metadata": {},
   "outputs": [],
   "source": [
    "recommendsDict = {\"Very Bearish\": 1, \"Bearish\": 2, \"Neutral\": 3, \"Bullish\": 4, \"Very Bullish\": 5}"
   ]
  },
  {
   "cell_type": "code",
   "execution_count": 1168,
   "metadata": {},
   "outputs": [],
   "source": [
    "recommends=recommends.assign(new_sent = lambda x: x.new_grade.apply(lambda g: recommendsDict[g]))\\\n",
    "    .assign(prev_sent = lambda x: x.prev_grade.apply(lambda g: recommendsDict[g]))"
   ]
  },
  {
   "cell_type": "code",
   "execution_count": 1169,
   "metadata": {},
   "outputs": [
    {
     "data": {
      "text/plain": [
       "Index(['date', 'Open', 'High', 'Low', 'Close', 'Volume', 'Volatility',\n",
       "       'Turnover', 'symbol'],\n",
       "      dtype='object')"
      ]
     },
     "execution_count": 1169,
     "metadata": {},
     "output_type": "execute_result"
    }
   ],
   "source": [
    "port.columns"
   ]
  },
  {
   "cell_type": "code",
   "execution_count": null,
   "metadata": {},
   "outputs": [],
   "source": [
    "def create_daily_data(ticker):\n",
    "    tick = yf.ticker.Ticker(ticker)\n",
    "    historical_data = tick.history(\"1mo\")\n",
    "    outstanding = tick.info.get(\"sharesOutstanding\")\n",
    "    if outstanding == None:\n",
    "        outstanding = 1\n",
    "    daily_close = historical_data[\"Close\"]\n",
    "    pct_change = daily_close.pct_change().fillna(0)\n",
    "    periods = 2\n",
    "    # calc volatility\n",
    "    vola = (pct_change.rolling(periods).std() * np.sqrt(periods)).fillna(0)\n",
    "    historical_data = historical_data.assign(Volatility = vola)\n",
    "    historical_data = historical_data.assign(Turnover = lambda x: x.Volume / outstanding)\n",
    "    historical_data = historical_data.assign(symbol = ticker)\n",
    "    return historical_data.reset_index().round({\"Volatility\": 6, \"Turnover\": 6})"
   ]
  },
  {
   "cell_type": "code",
   "execution_count": 1103,
   "metadata": {},
   "outputs": [],
   "source": [
    "# full_daily_data = pd.DataFrame()\n",
    "# for i, l in enumerate(companies):\n",
    "#     new_df = create_daily_data(l)\n",
    "#     full_daily_data = pd.concat([full_daily_data, new_df], axis=0, ignore_index=True)\n",
    "#     if i % 5 == 0:\n",
    "#         print(f\"Finished with {i}\")"
   ]
  },
  {
   "cell_type": "code",
   "execution_count": 1104,
   "metadata": {},
   "outputs": [],
   "source": [
    "# _22 = full_daily_data[lambda x: x.Date > dt.datetime(2021, 12, 31)]\n",
    "# _22 = _22.rename(columns={\"Stock Splits\": \"Stock_Splits\"})\n",
    "# _22 = _22.loc[:, port.drop('pk', axis=1).columns]\n",
    "# new_port = pd.concat([port.drop('pk', axis=1), _22], axis=0, ignore_index=True)"
   ]
  },
  {
   "cell_type": "code",
   "execution_count": null,
   "metadata": {},
   "outputs": [],
   "source": []
  },
  {
   "cell_type": "code",
   "execution_count": null,
   "metadata": {},
   "outputs": [],
   "source": []
  },
  {
   "cell_type": "code",
   "execution_count": null,
   "metadata": {},
   "outputs": [],
   "source": []
  },
  {
   "cell_type": "code",
   "execution_count": null,
   "metadata": {},
   "outputs": [],
   "source": []
  },
  {
   "cell_type": "code",
   "execution_count": 1170,
   "metadata": {},
   "outputs": [],
   "source": [
    "# take aggregations over wanted frequency; make buy decisions based off of the frequency of data points and sentiments\n",
    "# return port with new information: shares and cost * shares\n",
    "class EAT():\n",
    "    def __init__(self, portfolio, articles, comments, recs, start, end):\n",
    "        self.portfolio = portfolio.copy(deep=True)\n",
    "        self.postions = []\n",
    "        self.start = start\n",
    "        self.end = end\n",
    "        self.articles = articles[lambda x: (x.date >= start) & (x.date <= end)]\n",
    "        self.comments =  comments[lambda x: (x.date >= start) & (x.date <= end)]\n",
    "        self.recs = recs[lambda x: (x.date >= start) & (x.date <= end)]\n",
    "\n",
    "        self.aggs = {}\n",
    "\n",
    "    def aggregate(self):\n",
    "        articles_agg = self.articles.groupby([pd.Grouper(key=\"date\", freq=\"1Y\"), 'symbol'])\\\n",
    "            .agg({'pos_sent': ['mean'], 'neg_sent': ['mean'], 'neu_sent': ['mean'], 'comp_sent': ['mean', 'count']}).assign(type=lambda x: 'News')\n",
    "        comments_agg = self.comments.groupby([pd.Grouper(key=\"date\", freq=\"1Y\"), 'symbols'])\\\n",
    "            .agg({'pos_sent': ['mean'], 'neg_sent': ['mean'], 'neu_sent': ['mean'], 'comp_sent': ['mean', 'count']}).assign(type=lambda x: 'Chats')\n",
    "        recommends_agg = self.recs.groupby([pd.Grouper(key=\"date\", freq=\"1Y\"), 'symbol'])\\\n",
    "            .agg({'new_sent': ['mean'], 'prev_sent': ['mean', 'count']}).assign(type=lambda x: 'Analysts')\n",
    "        recommends_agg = recommends_agg.reset_index()\n",
    "        comments_agg = comments_agg.reset_index()\n",
    "        articles_agg = articles_agg.reset_index()\n",
    "        recommends_agg.columns = recommends_agg.columns.droplevel(1)\n",
    "        comments_agg.columns = comments_agg.columns.droplevel(1)\n",
    "        articles_agg.columns = articles_agg.columns.droplevel(1)\n",
    "        \n",
    "        articles_agg.columns = ['date', 'symbol', 'pos_sent', 'neg_sent', 'neu_sent', 'comp_sent',\n",
    "       'counts', 'type']\n",
    "        comments_agg.columns = ['date', 'symbol', 'pos_sent', 'neg_sent', 'neu_sent', 'comp_sent',\n",
    "       'counts', 'type']\n",
    "        recommends_agg.columns = ['date', 'symbol', 'new_sent', 'prev_sent', 'counts', 'type']\n",
    "        # comments_agg=comments_agg.assign(date = lambda x: x.date.apply(lambda x: x.date))\n",
    "        self.aggs['recommendations'] = recommends_agg\n",
    "        self.aggs['articles'] = articles_agg\n",
    "        self.aggs['comments'] = comments_agg\n",
    "        return None \n",
    "\n",
    "\n",
    "    def tradeSents(self, agg, label, min_samples, min_comp_sent, shares):\n",
    "        # add action, shares, cost\n",
    "        returns = self.aggs[agg][lambda x: (x.date >= self.start) & (x[label] >= min_comp_sent) & (x.counts >= min_samples)]\n",
    "        # query portfolio for first cost add columns\n",
    "        indexes = pd.Int64Index([])\n",
    "        for date, sym in returns.loc[:, ['date', 'symbol']].values:\n",
    "            # ns = returns[lambda x: x.date == date].shape[0]\n",
    "            if sym not in self.postions:\n",
    "                self.postions.append(sym)\n",
    "                f1_date = (date + relativedelta(years=1)).to_pydatetime()\n",
    "                indexes = self.portfolio[lambda x: ((x.date > date) & (x.symbol == sym) & (x.date <= f1_date))].index\n",
    "                self.portfolio.loc[indexes, \"shares\"] = shares\n",
    "            else:\n",
    "                self.postions.append(sym)\n",
    "                f1_date = (date + relativedelta(years=1)).to_pydatetime()\n",
    "                indexes = self.portfolio[lambda x: ((x.date > date) & (x.symbol == sym) & (x.date <= f1_date))].index\n",
    "                self.portfolio.loc[indexes, \"shares\"] = shares * self.postions.count(sym)\n",
    "            \n",
    "            i = returns[lambda x: (x.date == date) & (x.symbol == sym)].index\n",
    "            if not indexes.empty:\n",
    "                returns.loc[i, 'cost'] = shares * self.portfolio.loc[indexes[0], \"Close\"]\n",
    "                returns.loc[i, 'returns'] = shares * self.portfolio.loc[indexes[-1], \"Close\"]\n",
    "            else:\n",
    "                indexes = self.portfolio[lambda x: (x.symbol == sym)].index\n",
    "                returns.loc[i, 'cost'] = shares * self.portfolio.loc[indexes[-1], \"Open\"]\n",
    "                returns.loc[i, 'returns'] = shares * self.portfolio.loc[indexes[-1], \"Close\"]\n",
    "\n",
    "        return self.portfolio#returns\n",
    "        \n"
   ]
  },
  {
   "cell_type": "code",
   "execution_count": null,
   "metadata": {},
   "outputs": [],
   "source": []
  },
  {
   "cell_type": "code",
   "execution_count": 1171,
   "metadata": {},
   "outputs": [],
   "source": [
    "eat = EAT(port, articles, comments, recommends, dt.datetime(2018, 1, 1), dt.datetime(2022, 1, 30))"
   ]
  },
  {
   "cell_type": "code",
   "execution_count": 1172,
   "metadata": {},
   "outputs": [],
   "source": [
    "eat.aggregate()"
   ]
  },
  {
   "cell_type": "code",
   "execution_count": null,
   "metadata": {},
   "outputs": [],
   "source": []
  },
  {
   "cell_type": "code",
   "execution_count": 1173,
   "metadata": {},
   "outputs": [
    {
     "name": "stderr",
     "output_type": "stream",
     "text": [
      "C:\\Users\\Kyle\\anaconda3\\lib\\site-packages\\pandas\\core\\indexing.py:1596: SettingWithCopyWarning: \n",
      "A value is trying to be set on a copy of a slice from a DataFrame.\n",
      "Try using .loc[row_indexer,col_indexer] = value instead\n",
      "\n",
      "See the caveats in the documentation: https://pandas.pydata.org/pandas-docs/stable/user_guide/indexing.html#returning-a-view-versus-a-copy\n",
      "  self.obj[key] = _infer_fill_value(value)\n",
      "C:\\Users\\Kyle\\anaconda3\\lib\\site-packages\\pandas\\core\\indexing.py:1765: SettingWithCopyWarning: \n",
      "A value is trying to be set on a copy of a slice from a DataFrame.\n",
      "Try using .loc[row_indexer,col_indexer] = value instead\n",
      "\n",
      "See the caveats in the documentation: https://pandas.pydata.org/pandas-docs/stable/user_guide/indexing.html#returning-a-view-versus-a-copy\n",
      "  isetter(loc, value)\n"
     ]
    },
    {
     "data": {
      "text/html": [
       "<div>\n",
       "<style scoped>\n",
       "    .dataframe tbody tr th:only-of-type {\n",
       "        vertical-align: middle;\n",
       "    }\n",
       "\n",
       "    .dataframe tbody tr th {\n",
       "        vertical-align: top;\n",
       "    }\n",
       "\n",
       "    .dataframe thead th {\n",
       "        text-align: right;\n",
       "    }\n",
       "</style>\n",
       "<table border=\"1\" class=\"dataframe\">\n",
       "  <thead>\n",
       "    <tr style=\"text-align: right;\">\n",
       "      <th></th>\n",
       "      <th>date</th>\n",
       "      <th>Open</th>\n",
       "      <th>High</th>\n",
       "      <th>Low</th>\n",
       "      <th>Close</th>\n",
       "      <th>Volume</th>\n",
       "      <th>Volatility</th>\n",
       "      <th>Turnover</th>\n",
       "      <th>symbol</th>\n",
       "      <th>shares</th>\n",
       "    </tr>\n",
       "  </thead>\n",
       "  <tbody>\n",
       "    <tr>\n",
       "      <th>0</th>\n",
       "      <td>2017-01-03</td>\n",
       "      <td>42.972000</td>\n",
       "      <td>44.066002</td>\n",
       "      <td>42.192001</td>\n",
       "      <td>43.397999</td>\n",
       "      <td>29616500</td>\n",
       "      <td>0.000000</td>\n",
       "      <td>2.950000e-02</td>\n",
       "      <td>TSLA</td>\n",
       "      <td>NaN</td>\n",
       "    </tr>\n",
       "    <tr>\n",
       "      <th>1</th>\n",
       "      <td>2017-01-03</td>\n",
       "      <td>11.420000</td>\n",
       "      <td>11.650000</td>\n",
       "      <td>11.020000</td>\n",
       "      <td>11.430000</td>\n",
       "      <td>55182000</td>\n",
       "      <td>0.000000</td>\n",
       "      <td>4.570000e-02</td>\n",
       "      <td>AMD</td>\n",
       "      <td>NaN</td>\n",
       "    </tr>\n",
       "    <tr>\n",
       "      <th>2</th>\n",
       "      <td>2017-01-03</td>\n",
       "      <td>27.250112</td>\n",
       "      <td>27.374832</td>\n",
       "      <td>27.005378</td>\n",
       "      <td>27.332474</td>\n",
       "      <td>115127600</td>\n",
       "      <td>0.000000</td>\n",
       "      <td>7.000000e-03</td>\n",
       "      <td>AAPL</td>\n",
       "      <td>NaN</td>\n",
       "    </tr>\n",
       "    <tr>\n",
       "      <th>3</th>\n",
       "      <td>2017-01-03</td>\n",
       "      <td>20.639999</td>\n",
       "      <td>21.840000</td>\n",
       "      <td>20.532000</td>\n",
       "      <td>21.360001</td>\n",
       "      <td>73033</td>\n",
       "      <td>0.000000</td>\n",
       "      <td>4.000000e-04</td>\n",
       "      <td>ACB</td>\n",
       "      <td>NaN</td>\n",
       "    </tr>\n",
       "    <tr>\n",
       "      <th>4</th>\n",
       "      <td>2017-01-03</td>\n",
       "      <td>89.000000</td>\n",
       "      <td>89.000000</td>\n",
       "      <td>88.080002</td>\n",
       "      <td>88.599998</td>\n",
       "      <td>8789400</td>\n",
       "      <td>0.000000</td>\n",
       "      <td>3.200000e-03</td>\n",
       "      <td>BABA</td>\n",
       "      <td>NaN</td>\n",
       "    </tr>\n",
       "    <tr>\n",
       "      <th>...</th>\n",
       "      <td>...</td>\n",
       "      <td>...</td>\n",
       "      <td>...</td>\n",
       "      <td>...</td>\n",
       "      <td>...</td>\n",
       "      <td>...</td>\n",
       "      <td>...</td>\n",
       "      <td>...</td>\n",
       "      <td>...</td>\n",
       "      <td>...</td>\n",
       "    </tr>\n",
       "    <tr>\n",
       "      <th>98728</th>\n",
       "      <td>2022-01-28</td>\n",
       "      <td>24.003000</td>\n",
       "      <td>25.709999</td>\n",
       "      <td>22.809999</td>\n",
       "      <td>25.639999</td>\n",
       "      <td>21496600</td>\n",
       "      <td>0.101186</td>\n",
       "      <td>7.133600e-02</td>\n",
       "      <td>PTON</td>\n",
       "      <td>NaN</td>\n",
       "    </tr>\n",
       "    <tr>\n",
       "      <th>98729</th>\n",
       "      <td>2022-01-28</td>\n",
       "      <td>20.660000</td>\n",
       "      <td>21.320000</td>\n",
       "      <td>19.309999</td>\n",
       "      <td>20.900000</td>\n",
       "      <td>96497500</td>\n",
       "      <td>0.058454</td>\n",
       "      <td>6.066900e-02</td>\n",
       "      <td>NIO</td>\n",
       "      <td>NaN</td>\n",
       "    </tr>\n",
       "    <tr>\n",
       "      <th>98730</th>\n",
       "      <td>2022-01-28</td>\n",
       "      <td>1.850000</td>\n",
       "      <td>1.870000</td>\n",
       "      <td>1.750000</td>\n",
       "      <td>1.780000</td>\n",
       "      <td>2441000</td>\n",
       "      <td>0.035781</td>\n",
       "      <td>2.085600e-02</td>\n",
       "      <td>SOLO</td>\n",
       "      <td>NaN</td>\n",
       "    </tr>\n",
       "    <tr>\n",
       "      <th>98731</th>\n",
       "      <td>2022-01-29</td>\n",
       "      <td>37780.714844</td>\n",
       "      <td>38576.261719</td>\n",
       "      <td>37406.472656</td>\n",
       "      <td>38138.179688</td>\n",
       "      <td>17194183075</td>\n",
       "      <td>0.008032</td>\n",
       "      <td>1.719418e+10</td>\n",
       "      <td>BTC-USD</td>\n",
       "      <td>NaN</td>\n",
       "    </tr>\n",
       "    <tr>\n",
       "      <th>98732</th>\n",
       "      <td>2022-01-31</td>\n",
       "      <td>37922.519531</td>\n",
       "      <td>37922.519531</td>\n",
       "      <td>36865.222656</td>\n",
       "      <td>36916.058594</td>\n",
       "      <td>15363525632</td>\n",
       "      <td>0.041409</td>\n",
       "      <td>1.536353e+10</td>\n",
       "      <td>BTC-USD</td>\n",
       "      <td>NaN</td>\n",
       "    </tr>\n",
       "  </tbody>\n",
       "</table>\n",
       "<p>98731 rows × 10 columns</p>\n",
       "</div>"
      ],
      "text/plain": [
       "            date          Open          High           Low         Close  \\\n",
       "0     2017-01-03     42.972000     44.066002     42.192001     43.397999   \n",
       "1     2017-01-03     11.420000     11.650000     11.020000     11.430000   \n",
       "2     2017-01-03     27.250112     27.374832     27.005378     27.332474   \n",
       "3     2017-01-03     20.639999     21.840000     20.532000     21.360001   \n",
       "4     2017-01-03     89.000000     89.000000     88.080002     88.599998   \n",
       "...          ...           ...           ...           ...           ...   \n",
       "98728 2022-01-28     24.003000     25.709999     22.809999     25.639999   \n",
       "98729 2022-01-28     20.660000     21.320000     19.309999     20.900000   \n",
       "98730 2022-01-28      1.850000      1.870000      1.750000      1.780000   \n",
       "98731 2022-01-29  37780.714844  38576.261719  37406.472656  38138.179688   \n",
       "98732 2022-01-31  37922.519531  37922.519531  36865.222656  36916.058594   \n",
       "\n",
       "            Volume  Volatility      Turnover   symbol  shares  \n",
       "0         29616500    0.000000  2.950000e-02     TSLA     NaN  \n",
       "1         55182000    0.000000  4.570000e-02      AMD     NaN  \n",
       "2        115127600    0.000000  7.000000e-03     AAPL     NaN  \n",
       "3            73033    0.000000  4.000000e-04      ACB     NaN  \n",
       "4          8789400    0.000000  3.200000e-03     BABA     NaN  \n",
       "...            ...         ...           ...      ...     ...  \n",
       "98728     21496600    0.101186  7.133600e-02     PTON     NaN  \n",
       "98729     96497500    0.058454  6.066900e-02      NIO     NaN  \n",
       "98730      2441000    0.035781  2.085600e-02     SOLO     NaN  \n",
       "98731  17194183075    0.008032  1.719418e+10  BTC-USD     NaN  \n",
       "98732  15363525632    0.041409  1.536353e+10  BTC-USD     NaN  \n",
       "\n",
       "[98731 rows x 10 columns]"
      ]
     },
     "execution_count": 1173,
     "metadata": {},
     "output_type": "execute_result"
    }
   ],
   "source": [
    "eat.tradeSents(\"comments\", \"comp_sent\", min_samples=1, min_comp_sent=0.15, shares=10)"
   ]
  },
  {
   "cell_type": "code",
   "execution_count": 956,
   "metadata": {},
   "outputs": [
    {
     "name": "stderr",
     "output_type": "stream",
     "text": [
      "C:\\Users\\Kyle\\anaconda3\\lib\\site-packages\\pandas\\core\\indexing.py:1596: SettingWithCopyWarning: \n",
      "A value is trying to be set on a copy of a slice from a DataFrame.\n",
      "Try using .loc[row_indexer,col_indexer] = value instead\n",
      "\n",
      "See the caveats in the documentation: https://pandas.pydata.org/pandas-docs/stable/user_guide/indexing.html#returning-a-view-versus-a-copy\n",
      "  self.obj[key] = _infer_fill_value(value)\n",
      "C:\\Users\\Kyle\\anaconda3\\lib\\site-packages\\pandas\\core\\indexing.py:1765: SettingWithCopyWarning: \n",
      "A value is trying to be set on a copy of a slice from a DataFrame.\n",
      "Try using .loc[row_indexer,col_indexer] = value instead\n",
      "\n",
      "See the caveats in the documentation: https://pandas.pydata.org/pandas-docs/stable/user_guide/indexing.html#returning-a-view-versus-a-copy\n",
      "  isetter(loc, value)\n"
     ]
    }
   ],
   "source": [
    "ret = eat.tradeSents(\"articles\", \"comp_sent\", 100, 0.5, 10)"
   ]
  },
  {
   "cell_type": "code",
   "execution_count": 957,
   "metadata": {},
   "outputs": [],
   "source": [
    "ret = eat.tradeSents(\"recommendations\", \"new_sent\", 25, 4, 10)"
   ]
  },
  {
   "cell_type": "code",
   "execution_count": 958,
   "metadata": {},
   "outputs": [],
   "source": [
    "# eat.tradeSents(\"articles\", \"comp_sent\", 100, 0.5, 10)\n",
    "# eat.tradeSents(\"recommendations\", \"new_sent\", 25, 4, 10)"
   ]
  },
  {
   "cell_type": "code",
   "execution_count": 1152,
   "metadata": {},
   "outputs": [
    {
     "data": {
      "text/html": [
       "<div>\n",
       "<style scoped>\n",
       "    .dataframe tbody tr th:only-of-type {\n",
       "        vertical-align: middle;\n",
       "    }\n",
       "\n",
       "    .dataframe tbody tr th {\n",
       "        vertical-align: top;\n",
       "    }\n",
       "\n",
       "    .dataframe thead th {\n",
       "        text-align: right;\n",
       "    }\n",
       "</style>\n",
       "<table border=\"1\" class=\"dataframe\">\n",
       "  <thead>\n",
       "    <tr style=\"text-align: right;\">\n",
       "      <th></th>\n",
       "      <th>pos_sent</th>\n",
       "      <th>neg_sent</th>\n",
       "      <th>neu_sent</th>\n",
       "      <th>comp_sent</th>\n",
       "      <th>counts</th>\n",
       "      <th>cost</th>\n",
       "      <th>returns</th>\n",
       "      <th>r_pct</th>\n",
       "    </tr>\n",
       "    <tr>\n",
       "      <th>date</th>\n",
       "      <th></th>\n",
       "      <th></th>\n",
       "      <th></th>\n",
       "      <th></th>\n",
       "      <th></th>\n",
       "      <th></th>\n",
       "      <th></th>\n",
       "      <th></th>\n",
       "    </tr>\n",
       "  </thead>\n",
       "  <tbody>\n",
       "    <tr>\n",
       "      <th>2019-12-31</th>\n",
       "      <td>5.265895</td>\n",
       "      <td>0.623934</td>\n",
       "      <td>15.110028</td>\n",
       "      <td>8.133532</td>\n",
       "      <td>93</td>\n",
       "      <td>42329.746435</td>\n",
       "      <td>67754.449959</td>\n",
       "      <td>0.600634</td>\n",
       "    </tr>\n",
       "    <tr>\n",
       "      <th>2020-12-31</th>\n",
       "      <td>4.164832</td>\n",
       "      <td>0.921737</td>\n",
       "      <td>24.733701</td>\n",
       "      <td>5.878339</td>\n",
       "      <td>1405</td>\n",
       "      <td>330494.633604</td>\n",
       "      <td>502545.053391</td>\n",
       "      <td>0.520585</td>\n",
       "    </tr>\n",
       "  </tbody>\n",
       "</table>\n",
       "</div>"
      ],
      "text/plain": [
       "            pos_sent  neg_sent   neu_sent  comp_sent  counts           cost  \\\n",
       "date                                                                          \n",
       "2019-12-31  5.265895  0.623934  15.110028   8.133532      93   42329.746435   \n",
       "2020-12-31  4.164832  0.921737  24.733701   5.878339    1405  330494.633604   \n",
       "\n",
       "                  returns     r_pct  \n",
       "date                                 \n",
       "2019-12-31   67754.449959  0.600634  \n",
       "2020-12-31  502545.053391  0.520585  "
      ]
     },
     "execution_count": 1152,
     "metadata": {},
     "output_type": "execute_result"
    }
   ],
   "source": [
    "ret.groupby('date').sum().assign(r_pct = lambda x: (x.returns - x.cost) / x.cost)"
   ]
  },
  {
   "cell_type": "code",
   "execution_count": 1153,
   "metadata": {},
   "outputs": [
    {
     "name": "stderr",
     "output_type": "stream",
     "text": [
      "C:\\Users\\Kyle\\anaconda3\\lib\\site-packages\\pandas\\core\\indexing.py:1596: SettingWithCopyWarning: \n",
      "A value is trying to be set on a copy of a slice from a DataFrame.\n",
      "Try using .loc[row_indexer,col_indexer] = value instead\n",
      "\n",
      "See the caveats in the documentation: https://pandas.pydata.org/pandas-docs/stable/user_guide/indexing.html#returning-a-view-versus-a-copy\n",
      "  self.obj[key] = _infer_fill_value(value)\n",
      "C:\\Users\\Kyle\\anaconda3\\lib\\site-packages\\pandas\\core\\indexing.py:1765: SettingWithCopyWarning: \n",
      "A value is trying to be set on a copy of a slice from a DataFrame.\n",
      "Try using .loc[row_indexer,col_indexer] = value instead\n",
      "\n",
      "See the caveats in the documentation: https://pandas.pydata.org/pandas-docs/stable/user_guide/indexing.html#returning-a-view-versus-a-copy\n",
      "  isetter(loc, value)\n"
     ]
    },
    {
     "data": {
      "text/html": [
       "<div>\n",
       "<style scoped>\n",
       "    .dataframe tbody tr th:only-of-type {\n",
       "        vertical-align: middle;\n",
       "    }\n",
       "\n",
       "    .dataframe tbody tr th {\n",
       "        vertical-align: top;\n",
       "    }\n",
       "\n",
       "    .dataframe thead th {\n",
       "        text-align: right;\n",
       "    }\n",
       "</style>\n",
       "<table border=\"1\" class=\"dataframe\">\n",
       "  <thead>\n",
       "    <tr style=\"text-align: right;\">\n",
       "      <th></th>\n",
       "      <th>pos_sent</th>\n",
       "      <th>neg_sent</th>\n",
       "      <th>neu_sent</th>\n",
       "      <th>comp_sent</th>\n",
       "      <th>counts</th>\n",
       "      <th>cost</th>\n",
       "      <th>returns</th>\n",
       "      <th>r_pct</th>\n",
       "    </tr>\n",
       "    <tr>\n",
       "      <th>date</th>\n",
       "      <th></th>\n",
       "      <th></th>\n",
       "      <th></th>\n",
       "      <th></th>\n",
       "      <th></th>\n",
       "      <th></th>\n",
       "      <th></th>\n",
       "      <th></th>\n",
       "    </tr>\n",
       "  </thead>\n",
       "  <tbody>\n",
       "    <tr>\n",
       "      <th>2020-12-31</th>\n",
       "      <td>1.886672</td>\n",
       "      <td>0.725528</td>\n",
       "      <td>19.387871</td>\n",
       "      <td>12.806051</td>\n",
       "      <td>6245</td>\n",
       "      <td>363631.928234</td>\n",
       "      <td>537816.954250</td>\n",
       "      <td>0.479015</td>\n",
       "    </tr>\n",
       "    <tr>\n",
       "      <th>2021-12-31</th>\n",
       "      <td>2.635620</td>\n",
       "      <td>0.961372</td>\n",
       "      <td>26.403193</td>\n",
       "      <td>18.722140</td>\n",
       "      <td>9305</td>\n",
       "      <td>90168.539557</td>\n",
       "      <td>73207.400317</td>\n",
       "      <td>-0.188105</td>\n",
       "    </tr>\n",
       "  </tbody>\n",
       "</table>\n",
       "</div>"
      ],
      "text/plain": [
       "            pos_sent  neg_sent   neu_sent  comp_sent  counts           cost  \\\n",
       "date                                                                          \n",
       "2020-12-31  1.886672  0.725528  19.387871  12.806051    6245  363631.928234   \n",
       "2021-12-31  2.635620  0.961372  26.403193  18.722140    9305   90168.539557   \n",
       "\n",
       "                  returns     r_pct  \n",
       "date                                 \n",
       "2020-12-31  537816.954250  0.479015  \n",
       "2021-12-31   73207.400317 -0.188105  "
      ]
     },
     "execution_count": 1153,
     "metadata": {},
     "output_type": "execute_result"
    }
   ],
   "source": [
    "ret = eat.tradeSents(\"articles\", \"comp_sent\", 100, 0.5, 10)\n",
    "ret.groupby('date').sum().assign(r_pct = lambda x: (x.returns - x.cost) / x.cost)"
   ]
  },
  {
   "cell_type": "code",
   "execution_count": 1157,
   "metadata": {},
   "outputs": [
    {
     "name": "stderr",
     "output_type": "stream",
     "text": [
      "C:\\Users\\Kyle\\anaconda3\\lib\\site-packages\\pandas\\core\\indexing.py:1596: SettingWithCopyWarning: \n",
      "A value is trying to be set on a copy of a slice from a DataFrame.\n",
      "Try using .loc[row_indexer,col_indexer] = value instead\n",
      "\n",
      "See the caveats in the documentation: https://pandas.pydata.org/pandas-docs/stable/user_guide/indexing.html#returning-a-view-versus-a-copy\n",
      "  self.obj[key] = _infer_fill_value(value)\n",
      "C:\\Users\\Kyle\\anaconda3\\lib\\site-packages\\pandas\\core\\indexing.py:1765: SettingWithCopyWarning: \n",
      "A value is trying to be set on a copy of a slice from a DataFrame.\n",
      "Try using .loc[row_indexer,col_indexer] = value instead\n",
      "\n",
      "See the caveats in the documentation: https://pandas.pydata.org/pandas-docs/stable/user_guide/indexing.html#returning-a-view-versus-a-copy\n",
      "  isetter(loc, value)\n"
     ]
    },
    {
     "data": {
      "text/html": [
       "<div>\n",
       "<style scoped>\n",
       "    .dataframe tbody tr th:only-of-type {\n",
       "        vertical-align: middle;\n",
       "    }\n",
       "\n",
       "    .dataframe tbody tr th {\n",
       "        vertical-align: top;\n",
       "    }\n",
       "\n",
       "    .dataframe thead th {\n",
       "        text-align: right;\n",
       "    }\n",
       "</style>\n",
       "<table border=\"1\" class=\"dataframe\">\n",
       "  <thead>\n",
       "    <tr style=\"text-align: right;\">\n",
       "      <th></th>\n",
       "      <th>new_sent</th>\n",
       "      <th>prev_sent</th>\n",
       "      <th>counts</th>\n",
       "      <th>cost</th>\n",
       "      <th>returns</th>\n",
       "      <th>r_pct</th>\n",
       "    </tr>\n",
       "    <tr>\n",
       "      <th>date</th>\n",
       "      <th></th>\n",
       "      <th></th>\n",
       "      <th></th>\n",
       "      <th></th>\n",
       "      <th></th>\n",
       "      <th></th>\n",
       "    </tr>\n",
       "  </thead>\n",
       "  <tbody>\n",
       "    <tr>\n",
       "      <th>2018-12-31</th>\n",
       "      <td>29.418501</td>\n",
       "      <td>29.140315</td>\n",
       "      <td>280</td>\n",
       "      <td>21844.340649</td>\n",
       "      <td>27577.331295</td>\n",
       "      <td>0.262447</td>\n",
       "    </tr>\n",
       "    <tr>\n",
       "      <th>2019-12-31</th>\n",
       "      <td>33.888142</td>\n",
       "      <td>33.519803</td>\n",
       "      <td>355</td>\n",
       "      <td>30153.087006</td>\n",
       "      <td>47727.473297</td>\n",
       "      <td>0.582839</td>\n",
       "    </tr>\n",
       "    <tr>\n",
       "      <th>2020-12-31</th>\n",
       "      <td>67.845811</td>\n",
       "      <td>67.276012</td>\n",
       "      <td>993</td>\n",
       "      <td>57397.397575</td>\n",
       "      <td>62125.701008</td>\n",
       "      <td>0.082378</td>\n",
       "    </tr>\n",
       "    <tr>\n",
       "      <th>2021-12-31</th>\n",
       "      <td>58.988827</td>\n",
       "      <td>58.416372</td>\n",
       "      <td>694</td>\n",
       "      <td>67120.639572</td>\n",
       "      <td>56591.000690</td>\n",
       "      <td>-0.156876</td>\n",
       "    </tr>\n",
       "  </tbody>\n",
       "</table>\n",
       "</div>"
      ],
      "text/plain": [
       "             new_sent  prev_sent  counts          cost       returns     r_pct\n",
       "date                                                                          \n",
       "2018-12-31  29.418501  29.140315     280  21844.340649  27577.331295  0.262447\n",
       "2019-12-31  33.888142  33.519803     355  30153.087006  47727.473297  0.582839\n",
       "2020-12-31  67.845811  67.276012     993  57397.397575  62125.701008  0.082378\n",
       "2021-12-31  58.988827  58.416372     694  67120.639572  56591.000690 -0.156876"
      ]
     },
     "execution_count": 1157,
     "metadata": {},
     "output_type": "execute_result"
    }
   ],
   "source": [
    "ret = eat.tradeSents(\"recommendations\", \"new_sent\", 25, 4, 10)\n",
    "ret.groupby('date').sum().assign(r_pct = lambda x: (x.returns - x.cost) / x.cost)"
   ]
  },
  {
   "cell_type": "code",
   "execution_count": null,
   "metadata": {},
   "outputs": [],
   "source": []
  },
  {
   "cell_type": "code",
   "execution_count": null,
   "metadata": {},
   "outputs": [],
   "source": []
  },
  {
   "cell_type": "code",
   "execution_count": null,
   "metadata": {},
   "outputs": [],
   "source": []
  },
  {
   "cell_type": "code",
   "execution_count": null,
   "metadata": {},
   "outputs": [],
   "source": []
  },
  {
   "cell_type": "code",
   "execution_count": 808,
   "metadata": {},
   "outputs": [],
   "source": [
    "with sql.connect('../data/interim/companies.db') as con:\n",
    "    new_port.to_sql('daily', con=con, index=True, index_label=\"pk\", if_exists='replace')"
   ]
  },
  {
   "cell_type": "code",
   "execution_count": null,
   "metadata": {},
   "outputs": [],
   "source": []
  },
  {
   "cell_type": "code",
   "execution_count": null,
   "metadata": {},
   "outputs": [],
   "source": []
  },
  {
   "cell_type": "code",
   "execution_count": null,
   "metadata": {},
   "outputs": [],
   "source": []
  }
 ],
 "metadata": {
  "interpreter": {
   "hash": "533f42cc1718b4e514b78a4bcd7158294e27b7c18264f40c4fe062bcb1773c09"
  },
  "kernelspec": {
   "display_name": "Python 3.7.1 64-bit ('base': conda)",
   "language": "python",
   "name": "python3"
  },
  "language_info": {
   "codemirror_mode": {
    "name": "ipython",
    "version": 3
   },
   "file_extension": ".py",
   "mimetype": "text/x-python",
   "name": "python",
   "nbconvert_exporter": "python",
   "pygments_lexer": "ipython3",
   "version": "3.7.1"
  },
  "orig_nbformat": 4
 },
 "nbformat": 4,
 "nbformat_minor": 2
}
