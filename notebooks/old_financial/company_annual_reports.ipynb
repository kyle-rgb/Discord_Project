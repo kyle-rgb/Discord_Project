{
 "cells": [
  {
   "cell_type": "code",
   "execution_count": 1,
   "metadata": {},
   "outputs": [],
   "source": [
    "%matplotlib inline\n",
    "import pandas as pd\n",
    "import edgar\n",
    "download_directory = 'C:/Users/Donley/Documents/GA_TECH/SUBMISSIONS/demo-project/data/raw/'\n",
    "year = 2019\n"
   ]
  },
  {
   "cell_type": "code",
   "execution_count": 3,
   "metadata": {},
   "outputs": [
    {
     "ename": "IndexError",
     "evalue": "list index out of range",
     "output_type": "error",
     "traceback": [
      "\u001b[1;31m---------------------------------------------------------------------------\u001b[0m",
      "\u001b[1;31mIndexError\u001b[0m                                Traceback (most recent call last)",
      "\u001b[1;32m<ipython-input-3-14ce4d513a45>\u001b[0m in \u001b[0;36m<module>\u001b[1;34m\u001b[0m\n\u001b[0;32m     12\u001b[0m \u001b[1;33m\u001b[0m\u001b[0m\n\u001b[0;32m     13\u001b[0m \u001b[1;33m\u001b[0m\u001b[0m\n\u001b[1;32m---> 14\u001b[1;33m \u001b[1;32mfor\u001b[0m \u001b[0mitem\u001b[0m \u001b[1;32min\u001b[0m \u001b[0mFiling\u001b[0m\u001b[1;33m[\u001b[0m\u001b[1;36m0\u001b[0m\u001b[1;33m]\u001b[0m\u001b[1;33m:\u001b[0m\u001b[1;33m\u001b[0m\u001b[1;33m\u001b[0m\u001b[0m\n\u001b[0m\u001b[0;32m     15\u001b[0m     \u001b[1;32mif\u001b[0m \u001b[1;34m'\\r'\u001b[0m \u001b[1;32min\u001b[0m \u001b[0mitem\u001b[0m\u001b[1;33m:\u001b[0m\u001b[1;33m\u001b[0m\u001b[1;33m\u001b[0m\u001b[0m\n\u001b[0;32m     16\u001b[0m         \u001b[0mitem\u001b[0m \u001b[1;33m=\u001b[0m \u001b[0mitem\u001b[0m\u001b[1;33m.\u001b[0m\u001b[0mreplace\u001b[0m\u001b[1;33m(\u001b[0m\u001b[1;34m'\\r'\u001b[0m\u001b[1;33m,\u001b[0m \u001b[1;34m''\u001b[0m\u001b[1;33m)\u001b[0m\u001b[1;33m\u001b[0m\u001b[1;33m\u001b[0m\u001b[0m\n",
      "\u001b[1;31mIndexError\u001b[0m: list index out of range"
     ]
    }
   ],
   "source": [
    "# edgar.download_index(download_directory, year,skip_all_present_except_last=False)\n",
    "\n",
    "selectedcompany = 'TSLA'\n",
    "selectedreport = '10-Q'\n",
    "\n",
    "csv = pd.read_csv('C:/Users/Donley/Documents/GA_TECH/SUBMISSIONS/demo-project/data/raw/' + '2019-QTR4.tsv', sep='\\t',  lineterminator='\\n', names=None) \n",
    "\n",
    "csv.columns.values[0] = 'Item'\n",
    "companyreport = csv[(csv['Item'].str.contains(selectedcompany)) & (csv['Item'].str.contains(selectedreport))]\n",
    "Filing = companyreport['Item'].str.split('|')\n",
    "Filing = Filing.to_list()\n",
    "\n",
    "\n",
    "for item in Filing[0]:\n",
    "    if '\\r' in item:\n",
    "        item = item.replace('\\r', '')\n",
    "        if 'html' in item:\n",
    "            report = new_item\n",
    "    else: \n",
    "        report = item\n",
    "        \n",
    "url = 'https://www.sec.gov/Archives/' + report\n",
    "#https://www.sec.gov/ix?doc=/Archives/edgar/data/1652044/000165204419000032/goog10-qq32019.htm\n",
    "\n",
    "df = pd.read_html(url)\n",
    "document_index = df[0]\n",
    "document_index = document_index.dropna()\n",
    "document_index\n",
    "\n",
    "document_name = document_index[document_index['Description'].str.contains(selectedreport)]\n",
    "document_name = document_name['Document'].str.split(' ')\n",
    "document_name = document_name[0][0]\n",
    "\n",
    "report_formatted = report.replace('-','').replace('index.html','')\n",
    "\n",
    "url = 'https://www.sec.gov/Archives/' + report_formatted + '/' + document_name\n",
    "\n",
    "df = pd.read_html(url)\n",
    "\n",
    "\n",
    "for item in df:\n",
    "    BS = (item[0].astype(str).str.contains('Retained') | item[0].astype(str).str.contains('Total Assets'))\n",
    "    if BS.any():\n",
    "        Balance_Sheet = item\n",
    "\n",
    "    \n",
    "        \n",
    "\n",
    "Balance_Sheet = Balance_Sheet.iloc[2:,[0,3,6]]\n",
    "\n",
    "header = Balance_Sheet.iloc[0]\n",
    "Balance_Sheet = Balance_Sheet[1:]\n",
    "\n",
    "\n",
    "Balance_Sheet.columns = header\n",
    "\n",
    "\n",
    "Balance_Sheet.columns.values[0] = 'Item'\n",
    "Balance_Sheet = Balance_Sheet[Balance_Sheet['Item'].notna()]\n",
    "\n",
    "Balance_Sheet[Balance_Sheet.columns[1:]] = Balance_Sheet[Balance_Sheet.columns[1:]].astype(str)\n",
    "Balance_Sheet[Balance_Sheet.columns[1]] = Balance_Sheet[Balance_Sheet.columns[1]].map(lambda x: x.replace('(','-'))\n",
    "Balance_Sheet[Balance_Sheet.columns[2]] = Balance_Sheet[Balance_Sheet.columns[2]].map(lambda x: x.replace('(','-'))\n",
    "\n",
    "Balance_Sheet[Balance_Sheet.columns[1]] = Balance_Sheet[Balance_Sheet.columns[1]].map(lambda x: x.replace(',',''))\n",
    "Balance_Sheet[Balance_Sheet.columns[2]] = Balance_Sheet[Balance_Sheet.columns[2]].map(lambda x: x.replace(',',''))\n",
    "\n",
    "Balance_Sheet[Balance_Sheet.columns[1]] = Balance_Sheet[Balance_Sheet.columns[1]].map(lambda x: x.replace('—','0'))\n",
    "Balance_Sheet[Balance_Sheet.columns[2]] = Balance_Sheet[Balance_Sheet.columns[2]].map(lambda x: x.replace('—','0'))\n",
    "\n",
    "Balance_Sheet[Balance_Sheet.columns[1]] = Balance_Sheet[Balance_Sheet.columns[1]].map(lambda x: x.replace(')',''))\n",
    "Balance_Sheet[Balance_Sheet.columns[2]] = Balance_Sheet[Balance_Sheet.columns[2]].map(lambda x: x.replace(')',''))\n",
    "\n",
    "Balance_Sheet[Balance_Sheet.columns[1]] = Balance_Sheet[Balance_Sheet.columns[1]].map(lambda x: x.replace('-',''))\n",
    "Balance_Sheet[Balance_Sheet.columns[2]] = Balance_Sheet[Balance_Sheet.columns[2]].map(lambda x: x.replace('-',''))\n",
    "\n",
    "\n",
    "Balance_Sheet[Balance_Sheet.columns[1]] = Balance_Sheet[Balance_Sheet.columns[1]].map(lambda x: x.replace('nan','0'))\n",
    "Balance_Sheet[Balance_Sheet.columns[2]] = Balance_Sheet[Balance_Sheet.columns[2]].map(lambda x: x.replace('nan','0'))\n",
    "\n",
    "\n",
    "# Balance_Sheet.fillna(0, inplace=True)\n",
    "# Balance_Sheet[Balance_Sheet.columns[2:]] = Balance_Sheet[Balance_Sheet.columns[2:]].astype(float)\n",
    "\n",
    "Balance_Sheet"
   ]
  },
  {
   "cell_type": "code",
   "execution_count": null,
   "metadata": {},
   "outputs": [],
   "source": []
  },
  {
   "cell_type": "code",
   "execution_count": null,
   "metadata": {},
   "outputs": [],
   "source": []
  }
 ],
 "metadata": {
  "kernelspec": {
   "display_name": "Python 3",
   "language": "python",
   "name": "python3"
  },
  "language_info": {
   "codemirror_mode": {
    "name": "ipython",
    "version": 3
   },
   "file_extension": ".py",
   "mimetype": "text/x-python",
   "name": "python",
   "nbconvert_exporter": "python",
   "pygments_lexer": "ipython3",
   "version": "3.8.5"
  }
 },
 "nbformat": 4,
 "nbformat_minor": 4
}
