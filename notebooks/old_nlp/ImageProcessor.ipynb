{
 "cells": [
  {
   "cell_type": "code",
   "execution_count": 1,
   "metadata": {},
   "outputs": [],
   "source": [
    "import numpy as np, pandas as pd, math, os\n",
    "from PIL import Image"
   ]
  },
  {
   "cell_type": "code",
   "execution_count": 2,
   "metadata": {},
   "outputs": [],
   "source": [
    "import pytesseract"
   ]
  },
  {
   "cell_type": "code",
   "execution_count": 3,
   "metadata": {},
   "outputs": [],
   "source": [
    "import pprint as p"
   ]
  },
  {
   "cell_type": "code",
   "execution_count": 5,
   "metadata": {},
   "outputs": [],
   "source": [
    "pred = pytesseract.image_to_string(\"data/photos/robinhood/trader.jpg\")"
   ]
  },
  {
   "cell_type": "code",
   "execution_count": 6,
   "metadata": {},
   "outputs": [
    {
     "data": {
      "text/plain": [
       "str"
      ]
     },
     "execution_count": 6,
     "metadata": {},
     "output_type": "execute_result"
    }
   ],
   "source": [
    "type(pred)"
   ]
  },
  {
   "cell_type": "code",
   "execution_count": 7,
   "metadata": {},
   "outputs": [
    {
     "name": "stdout",
     "output_type": "stream",
     "text": [
      "Accounts\n",
      "\n",
      "$1,783.03 $965.94 (18.22%)\n",
      "\n",
      "Day Day\n",
      "Symbol gain $ gain % Price Chg $ Chg % Mkt value Gain$ v Gain %\n",
      "BYND Aug 2\n",
      "\n",
      "2019185 Put | g45.00 241.42% 11.95 845 241.42% 1,196.00 395.33 49.43%\n",
      "(Weekly)\n",
      "1\n",
      "\n",
      " \n",
      "\n",
      "2019 25 Put 143.14 140.52% 2.45 1.43 140.52% 245.00 167.33 215.43%\n",
      "\n",
      "VBTX Aug 16\n",
      "1\n",
      "\f",
      "\n"
     ]
    }
   ],
   "source": [
    "print(pred)"
   ]
  },
  {
   "cell_type": "code",
   "execution_count": 8,
   "metadata": {},
   "outputs": [],
   "source": [
    "pred0 = pytesseract.image_to_string(\"data/photos/robinhood/0.jpg\")"
   ]
  },
  {
   "cell_type": "code",
   "execution_count": 9,
   "metadata": {},
   "outputs": [
    {
     "name": "stdout",
     "output_type": "stream",
     "text": [
      "Type\n",
      "Trades\n",
      "DATE\n",
      "\n",
      "Today\n",
      "\n",
      "Today\n",
      "\n",
      "Today\n",
      "\n",
      "oO\n",
      "ol\n",
      "Dashboard\n",
      "\n",
      "Day Range\n",
      "\n",
      "Today\n",
      "TRANSACTION CHANGE\n",
      "BYND Aug 2 2019 185.00 W Put Sell to\n",
      "Close 1 @ 14.00 es\n",
      "MMDA1 Cash Alternatives Purchase 24.51\n",
      "Cash Alternatives Purchase -24.51\n",
      "\n",
      "@ 2 Ss =\n",
      "\n",
      "Watch Lists Accounts Trade More\n",
      "\f",
      "\n"
     ]
    }
   ],
   "source": [
    "print(pred0)"
   ]
  },
  {
   "cell_type": "code",
   "execution_count": 12,
   "metadata": {},
   "outputs": [],
   "source": [
    "pred1 = pytesseract.image_to_string(\"data/photos/robinhood/1.jpg\")"
   ]
  },
  {
   "cell_type": "code",
   "execution_count": 13,
   "metadata": {},
   "outputs": [],
   "source": [
    "pred2 = pytesseract.image_to_string(\"data/photos/robinhood/2.png\")"
   ]
  },
  {
   "cell_type": "code",
   "execution_count": 14,
   "metadata": {},
   "outputs": [],
   "source": [
    "pred3 = pytesseract.image_to_string(\"data/photos/robinhood/3.jpg\")\n",
    "pred4 = pytesseract.image_to_string(\"data/photos/robinhood/4.png\")\n",
    "pred5 = pytesseract.image_to_string(\"data/photos/robinhood/5.png\")"
   ]
  },
  {
   "cell_type": "code",
   "execution_count": 15,
   "metadata": {},
   "outputs": [
    {
     "name": "stdout",
     "output_type": "stream",
     "text": [
      "eI $15,900.00\n",
      "\n",
      "P/L Open $15,900.00\n",
      "\f",
      "\n"
     ]
    }
   ],
   "source": [
    "print(pred1)"
   ]
  },
  {
   "cell_type": "code",
   "execution_count": 16,
   "metadata": {},
   "outputs": [
    {
     "name": "stdout",
     "output_type": "stream",
     "text": [
      " \n",
      "\n",
      "$1,823.78 $299.07 (19.61%)\n",
      "\n",
      " \n",
      "\n",
      " \n",
      "\n",
      " \n",
      "\n",
      " \n",
      "\n",
      "Day Day\n",
      "\n",
      "Symbol gain $ gain % Price Chg $ Chg % Mkt value Gain$ vw Gain %\n",
      "VBTX Aug 16\n",
      "\n",
      "2012 25 Put 118.82 94.16% 2.45 1.18 94.16% 245.00 167.33 215.43%\n",
      "Tocd Aug 16\n",
      "\n",
      "ae 11 Call 99.84 124.55% 0.30 0.1664 124.55% 180.00 57.89 47.40%\n",
      "PXLW Aug 16\n",
      "\n",
      "2019 2.5 Call 42.60 20.79% 0.825 0.142 20.79% 247.50 37.40 17.80%\n",
      "AMD Aug 16\n",
      "\n",
      "2019 30Call ~-38.02 -16.45% 0.965 -0.1901 -16.45% 193.00 25.00 14.88%\n",
      "\n",
      " \n",
      "\n",
      " \n",
      "\f",
      "\n"
     ]
    }
   ],
   "source": [
    "print(pred3)"
   ]
  },
  {
   "cell_type": "code",
   "execution_count": 17,
   "metadata": {},
   "outputs": [
    {
     "name": "stdout",
     "output_type": "stream",
     "text": [
      "9:55 >a)\n",
      "\n",
      "< $200.19 @\n",
      "\n",
      "AAPL\n",
      "\n",
      "Featured In\n",
      "\n",
      "Computer Hardware 32 Retail 1,280 Mediz\n",
      "\n",
      "100 Most Popular 100 Telecommunications\n",
      "\n",
      "Computer Software 25 Electronics 510\n",
      "\n",
      "Technology 1,800 Consumer Products 558\n",
      "Your History\n",
      "\n",
      "Aug 8, 2019\n",
      "\n",
      " \n",
      "\n",
      "$202.5 Call 8/9 Buy\n",
      "\n",
      "$36.00 >\n",
      "Aug 7, 2019\n",
      "\n",
      " \n",
      "\n",
      "$202.5 Call 8/9 Buy\n",
      "Aug 7, 2019\n",
      "\n",
      "TODAY'S VOLUME\n",
      "4,109,056 ee\n",
      "\n",
      "Canceled >\n",
      "\n",
      " \n",
      "\n",
      "32:\n",
      "\n",
      "Tel\n",
      "\f",
      "\n"
     ]
    }
   ],
   "source": [
    "print(pred4)"
   ]
  },
  {
   "cell_type": "code",
   "execution_count": 18,
   "metadata": {},
   "outputs": [
    {
     "name": "stdout",
     "output_type": "stream",
     "text": [
      "11:58 a 2\n",
      "\n",
      "View MCD\n",
      "\n",
      "MCD $220 Call 9/6 Sell\n",
      "\n",
      "Good for day\n",
      "\n",
      "Aug 8, 2019\n",
      "\n",
      "Limit Sell\n",
      "\n",
      "Close\n",
      "\n",
      "Aug 8, 2019 at 11:58 AM ET\n",
      "1 contract at $3.40\n",
      "\n",
      "$340.00\n",
      "\n",
      "go\n",
      "\f",
      "\n"
     ]
    }
   ],
   "source": [
    "print(pred5)"
   ]
  },
  {
   "cell_type": "code",
   "execution_count": 19,
   "metadata": {},
   "outputs": [],
   "source": [
    "pred2a = pytesseract.image_to_string(\"data/photos/robinhood/2a.png\")"
   ]
  },
  {
   "cell_type": "code",
   "execution_count": 20,
   "metadata": {},
   "outputs": [
    {
     "name": "stdout",
     "output_type": "stream",
     "text": [
      "Symbol\n",
      "\n",
      "@ SPY\n",
      "\n",
      "@ SHOP\n",
      "\n",
      "@ SPY\n",
      "\n",
      "@ SHOP [im]\n",
      "\n",
      "0 Aug2\n",
      "0 Aug2\n",
      "VN\n",
      "\n",
      "MN\n",
      "\n",
      "oT\n",
      "\n",
      "Od\n",
      "\n",
      "of}\n",
      "\n",
      "Od\n",
      "\n",
      "vac\n",
      "\n",
      "340\n",
      "\n",
      "v2}\n",
      "\n",
      "330\n",
      "\n",
      "I\n",
      "\n",
      "P/L Open\n",
      "0.00\n",
      "\n",
      "0.00\n",
      "32.00\n",
      "457.00\n",
      "\n",
      "7A EW]\n",
      "82.51\n",
      "lee\n",
      "32.00\n",
      "457.00\n",
      "\f",
      "\n"
     ]
    }
   ],
   "source": [
    "print(pred2a)"
   ]
  },
  {
   "cell_type": "code",
   "execution_count": 21,
   "metadata": {},
   "outputs": [],
   "source": [
    "apple = pytesseract.image_to_string(\"data/photos/robinhood/lilApple.jpg\")"
   ]
  },
  {
   "cell_type": "code",
   "execution_count": 22,
   "metadata": {},
   "outputs": [
    {
     "name": "stdout",
     "output_type": "stream",
     "text": [
      "< $207.52 @\n",
      "\n",
      "AAPL\n",
      "100 Most Popular 100 Telecommunications 32:\n",
      "\n",
      "Computer Software 25 Electronics 509 Te!\n",
      "\n",
      "Technology 1,796 Consumer Products 558\n",
      "\n",
      "Your History\n",
      "\n",
      "$205 Call 8/16 Sell $370.00 >\n",
      "Aug 13, 2019\n",
      "\n",
      ">\n",
      "Aug 12, 2019\n",
      "\n",
      " \n",
      "\n",
      "Apple play this-morning!!\n",
      "\n",
      "AUG TZ, ZU\n",
      "\n",
      "$205 Call 8/16 Buy $125.00 >\n",
      "Aug 12, 2019\n",
      "\n",
      "SHOW MORE\n",
      "\n",
      "TODAY'S VOLUME Se\n",
      "\n",
      "6,081,167 ohh\n",
      "e\n",
      "\n",
      "Q\n",
      "\f",
      "\n"
     ]
    }
   ],
   "source": [
    "print(apple)"
   ]
  },
  {
   "cell_type": "code",
   "execution_count": null,
   "metadata": {},
   "outputs": [],
   "source": []
  }
 ],
 "metadata": {
  "kernelspec": {
   "display_name": "Python 3",
   "language": "python",
   "name": "python3"
  },
  "language_info": {
   "codemirror_mode": {
    "name": "ipython",
    "version": 3
   },
   "file_extension": ".py",
   "mimetype": "text/x-python",
   "name": "python",
   "nbconvert_exporter": "python",
   "pygments_lexer": "ipython3",
   "version": "3.7.1"
  }
 },
 "nbformat": 4,
 "nbformat_minor": 4
}
